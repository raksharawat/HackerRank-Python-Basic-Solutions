{
 "cells": [
  {
   "cell_type": "markdown",
   "metadata": {},
   "source": [
    "# HackerRank Python (Basic) Subdomain: Strings Solutions"
   ]
  },
  {
   "cell_type": "markdown",
   "metadata": {},
   "source": [
    "# sWAP cASE"
   ]
  },
  {
   "cell_type": "code",
   "execution_count": 1,
   "metadata": {},
   "outputs": [
    {
     "name": "stdout",
     "output_type": "stream",
     "text": [
      "Total Value\n",
      "tOTAL vALUE\n"
     ]
    }
   ],
   "source": [
    "s=input()\n",
    "print(s.swapcase())"
   ]
  },
  {
   "cell_type": "markdown",
   "metadata": {},
   "source": [
    "# String Split and Join"
   ]
  },
  {
   "cell_type": "code",
   "execution_count": 2,
   "metadata": {},
   "outputs": [
    {
     "name": "stdout",
     "output_type": "stream",
     "text": [
      "string split and join\n",
      "string-split-and-join\n"
     ]
    }
   ],
   "source": [
    "def split_and_join(line):\n",
    "    line=line.split(\" \")\n",
    "    line=\"-\".join(line)\n",
    "    print(line)\n",
    "\n",
    "a=input()\n",
    "split_and_join(a)"
   ]
  },
  {
   "cell_type": "markdown",
   "metadata": {},
   "source": [
    "# What's Your Name?"
   ]
  },
  {
   "cell_type": "code",
   "execution_count": 3,
   "metadata": {},
   "outputs": [
    {
     "name": "stdout",
     "output_type": "stream",
     "text": [
      "Taylor\n",
      "Swift\n",
      "Hello Taylor Swift! You just delved into python.\n"
     ]
    }
   ],
   "source": [
    "def full_name(a,b):\n",
    "    print(f\"Hello {a} {b}! You just delved into python.\")\n",
    "\n",
    "a=input()\n",
    "b=input()\n",
    "full_name(a,b)"
   ]
  },
  {
   "cell_type": "markdown",
   "metadata": {},
   "source": [
    "# Mutations"
   ]
  },
  {
   "cell_type": "code",
   "execution_count": 5,
   "metadata": {},
   "outputs": [
    {
     "name": "stdout",
     "output_type": "stream",
     "text": [
      "abracadabra\n",
      "4 6\n",
      "abra6adabra\n"
     ]
    }
   ],
   "source": [
    "def mutate_string(s, t, c):\n",
    "    a=list(s)\n",
    "    a[t]=c\n",
    "    a=\"\".join(a)\n",
    "    return a\n",
    "\n",
    "s = input()\n",
    "i, c = input().split()\n",
    "s_new = mutate_string(s, int(i), c)\n",
    "print(s_new)"
   ]
  },
  {
   "cell_type": "markdown",
   "metadata": {},
   "source": [
    "# Find a string"
   ]
  },
  {
   "cell_type": "code",
   "execution_count": 7,
   "metadata": {},
   "outputs": [
    {
     "name": "stdout",
     "output_type": "stream",
     "text": [
      "abcdefdiedie\n",
      "die\n",
      "2\n"
     ]
    }
   ],
   "source": [
    "def count_substring(string, sub_string):\n",
    "    count=0\n",
    "    while sub_string in string: \n",
    "        count = count+1     \n",
    "        string = string[string.find(sub_string)+1:]\n",
    "        \n",
    "    return count\n",
    "\n",
    "\n",
    "string=input()\n",
    "len1=len(string)\n",
    "substring=input()\n",
    "len2=len(substring)\n",
    "  \n",
    "if ((len1>= 1) and (len1<= 200)): \n",
    "    if len2 < len1:\n",
    "        result = count_substring(string, substring)\n",
    "        print(result)\n",
    "    else: \n",
    "        pass"
   ]
  },
  {
   "cell_type": "markdown",
   "metadata": {},
   "source": [
    "# String Validators"
   ]
  },
  {
   "cell_type": "code",
   "execution_count": 8,
   "metadata": {},
   "outputs": [
    {
     "name": "stdout",
     "output_type": "stream",
     "text": [
      "Question 1\n",
      "True\n",
      "True\n",
      "True\n",
      "True\n",
      "True\n"
     ]
    }
   ],
   "source": [
    "string=input()\n",
    "\n",
    "if ((len(string) > 0) and (len(string) < 1000)):\n",
    "    for test in ('isalnum', 'isalpha', 'isdigit', 'islower', 'isupper'):\n",
    "        print(any([eval(\"i.\" + test + \"()\") for i in string]))"
   ]
  },
  {
   "cell_type": "markdown",
   "metadata": {},
   "source": [
    "# Text Alignment"
   ]
  },
  {
   "cell_type": "code",
   "execution_count": 9,
   "metadata": {},
   "outputs": [
    {
     "name": "stdout",
     "output_type": "stream",
     "text": [
      "7\n",
      "      H      \n",
      "     HHH     \n",
      "    HHHHH    \n",
      "   HHHHHHH   \n",
      "  HHHHHHHHH  \n",
      " HHHHHHHHHHH \n",
      "HHHHHHHHHHHHH\n",
      "   HHHHHHH                     HHHHHHH                  \n",
      "   HHHHHHH                     HHHHHHH                  \n",
      "   HHHHHHH                     HHHHHHH                  \n",
      "   HHHHHHH                     HHHHHHH                  \n",
      "   HHHHHHH                     HHHHHHH                  \n",
      "   HHHHHHH                     HHHHHHH                  \n",
      "   HHHHHHH                     HHHHHHH                  \n",
      "   HHHHHHH                     HHHHHHH                  \n",
      "   HHHHHHHHHHHHHHHHHHHHHHHHHHHHHHHHHHH    \n",
      "   HHHHHHHHHHHHHHHHHHHHHHHHHHHHHHHHHHH    \n",
      "   HHHHHHHHHHHHHHHHHHHHHHHHHHHHHHHHHHH    \n",
      "   HHHHHHHHHHHHHHHHHHHHHHHHHHHHHHHHHHH    \n",
      "   HHHHHHH                     HHHHHHH                  \n",
      "   HHHHHHH                     HHHHHHH                  \n",
      "   HHHHHHH                     HHHHHHH                  \n",
      "   HHHHHHH                     HHHHHHH                  \n",
      "   HHHHHHH                     HHHHHHH                  \n",
      "   HHHHHHH                     HHHHHHH                  \n",
      "   HHHHHHH                     HHHHHHH                  \n",
      "   HHHHHHH                     HHHHHHH                  \n",
      "                            HHHHHHHHHHHHH \n",
      "                             HHHHHHHHHHH  \n",
      "                              HHHHHHHHH   \n",
      "                               HHHHHHH    \n",
      "                                HHHHH     \n",
      "                                 HHH      \n",
      "                                  H       \n"
     ]
    }
   ],
   "source": [
    "thickness = int(input()) #This must be an odd number\n",
    "c = 'H'\n",
    "\n",
    "#Top Cone\n",
    "for i in range(thickness):\n",
    "    print((c*i).rjust(thickness-1)+c+(c*i).ljust(thickness-1))\n",
    "\n",
    "#Top Pillars\n",
    "for i in range(thickness+1):\n",
    "    print((c*thickness).center(thickness*2)+(c*thickness).center(thickness*6))\n",
    "\n",
    "#Middle Belt\n",
    "for i in range((thickness+1)//2):\n",
    "    print((c*thickness*5).center(thickness*6))    \n",
    "\n",
    "#Bottom Pillars\n",
    "for i in range(thickness+1):\n",
    "    print((c*thickness).center(thickness*2)+(c*thickness).center(thickness*6))    \n",
    "\n",
    "#Bottom Cone\n",
    "for i in range(thickness):\n",
    "    print(((c*(thickness-i-1)).rjust(thickness)+c+(c*(thickness-i-1)).ljust(thickness)).rjust(thickness*6))"
   ]
  },
  {
   "cell_type": "markdown",
   "metadata": {},
   "source": [
    "# Text Wrap"
   ]
  },
  {
   "cell_type": "code",
   "execution_count": 11,
   "metadata": {},
   "outputs": [
    {
     "name": "stdout",
     "output_type": "stream",
     "text": [
      "textarwkegjkeebjl\n",
      "5\n",
      "texta\n",
      "rwkeg\n",
      "jkeeb\n",
      "jl\n"
     ]
    }
   ],
   "source": [
    "import textwrap\n",
    "\n",
    "def wrap(s, w):\n",
    "    st=textwrap.TextWrapper(width=w)\n",
    "    st=st.wrap(text=s)\n",
    "    st=\"\\n\".join(st)\n",
    "    return st\n",
    "\n",
    "string=input()\n",
    "width=int(input())\n",
    "\n",
    "if ((len(string) > 0) and (len(string) < 1000)):\n",
    "    if ((width > 0) and (width < len(string))):\n",
    "        res=wrap(string, width)\n",
    "        print(res)"
   ]
  },
  {
   "cell_type": "markdown",
   "metadata": {},
   "source": [
    "# Designer Door Mat"
   ]
  },
  {
   "cell_type": "code",
   "execution_count": 14,
   "metadata": {},
   "outputs": [
    {
     "name": "stdout",
     "output_type": "stream",
     "text": [
      "9 27\n",
      "------------.|.------------\n",
      "---------.|..|..|.---------\n",
      "------.|..|..|..|..|.------\n",
      "---.|..|..|..|..|..|..|.---\n",
      "----------WELCOME----------\n",
      "---.|..|..|..|..|..|..|.---\n",
      "------.|..|..|..|..|.------\n",
      "---------.|..|..|.---------\n",
      "------------.|.------------\n"
     ]
    }
   ],
   "source": [
    "nm=input().split()\n",
    "n=int(nm[0])\n",
    "m=int(nm[1])\n",
    "\n",
    "if ((n>5) and (n<101)):\n",
    "    if ((m>15) and (m<303)):\n",
    "        if m == 3*n:\n",
    "            pattern = [('.|.'*(2*i + 1)).center(m, '-') for i in range(n//2)]\n",
    "            print('\\n'.join(pattern + ['WELCOME'.center(m, '-')] + pattern[::-1]))"
   ]
  },
  {
   "cell_type": "markdown",
   "metadata": {},
   "source": [
    "# String Formatting"
   ]
  },
  {
   "cell_type": "code",
   "execution_count": 15,
   "metadata": {},
   "outputs": [
    {
     "name": "stdout",
     "output_type": "stream",
     "text": [
      "15\n",
      "   1    1    1    1\n",
      "   2    2    2   10\n",
      "   3    3    3   11\n",
      "   4    4    4  100\n",
      "   5    5    5  101\n",
      "   6    6    6  110\n",
      "   7    7    7  111\n",
      "   8   10    8 1000\n",
      "   9   11    9 1001\n",
      "  10   12    A 1010\n",
      "  11   13    B 1011\n",
      "  12   14    C 1100\n",
      "  13   15    D 1101\n",
      "  14   16    E 1110\n",
      "  15   17    F 1111\n"
     ]
    }
   ],
   "source": [
    "def print_formatted(n):\n",
    "    lbin=len(bin(n)[2:])\n",
    "    for i in range(1,n+1):\n",
    "        decimal = str(i)\n",
    "        octal = oct(i)\n",
    "        octal = octal[2:]\n",
    "        hexadecimal = hex(i)\n",
    "        hexadecimal = hexadecimal[2:]\n",
    "        binary = bin(i)\n",
    "        binary = binary[2:]\n",
    "        print(decimal.rjust(lbin, ' '), octal.rjust(lbin, ' '), hexadecimal.upper().rjust(lbin, ' '), binary.rjust(lbin, ' '))\n",
    "        \n",
    "n=int(input())\n",
    "print_formatted(n)"
   ]
  },
  {
   "cell_type": "markdown",
   "metadata": {},
   "source": [
    "# Alphabet Rangoli"
   ]
  },
  {
   "cell_type": "code",
   "execution_count": 16,
   "metadata": {},
   "outputs": [
    {
     "name": "stdout",
     "output_type": "stream",
     "text": [
      "6\n",
      "----------f----------\n",
      "--------f-e-f--------\n",
      "------f-e-d-e-f------\n",
      "----f-e-d-c-d-e-f----\n",
      "--f-e-d-c-b-c-d-e-f--\n",
      "f-e-d-c-b-a-b-c-d-e-f\n",
      "--f-e-d-c-b-c-d-e-f--\n",
      "----f-e-d-c-d-e-f----\n",
      "------f-e-d-e-f------\n",
      "--------f-e-f--------\n",
      "----------f----------\n"
     ]
    }
   ],
   "source": [
    "import string\n",
    "alpha = string.ascii_lowercase\n",
    "\n",
    "def print_rangoli(n):\n",
    "    L = []\n",
    "    for i in range(n):\n",
    "        s = \"-\".join(alpha[i:n])\n",
    "        L.append((s[::-1]+s[1:]).center(4*n-3, \"-\"))\n",
    "    \n",
    "    print('\\n'.join(L[:0:-1]+L))\n",
    "\n",
    "n = int(input())\n",
    "print_rangoli(n)"
   ]
  },
  {
   "cell_type": "markdown",
   "metadata": {},
   "source": [
    "# Capitalize!"
   ]
  },
  {
   "cell_type": "code",
   "execution_count": 18,
   "metadata": {},
   "outputs": [
    {
     "name": "stdout",
     "output_type": "stream",
     "text": [
      "raksha rawat\n",
      "Raksha Rawat\n"
     ]
    }
   ],
   "source": [
    "def solve(s):\n",
    "    sr=s.split(' ')\n",
    "    name=[]\n",
    "    for i in sr:\n",
    "        st=i.capitalize()\n",
    "        name.append(st)\n",
    "        \n",
    "    a=' '.join(name)\n",
    "    print(a)\n",
    "\n",
    "s=input()\n",
    "solve(s)"
   ]
  },
  {
   "cell_type": "markdown",
   "metadata": {},
   "source": [
    "# The Minion Game"
   ]
  },
  {
   "cell_type": "code",
   "execution_count": 21,
   "metadata": {},
   "outputs": [
    {
     "name": "stdout",
     "output_type": "stream",
     "text": [
      "APPLE\n",
      "Stuart 9\n"
     ]
    }
   ],
   "source": [
    "def minion_game(s):\n",
    "    vowel='AEIOU'\n",
    "    stusc=0\n",
    "    kevsc=0\n",
    "    for i in range(len(s)):\n",
    "        if s[i] in vowel:\n",
    "            kevsc = kevsc + (len(s)-i)\n",
    "        else:\n",
    "            stusc = stusc + (len(s)-i)          \n",
    "        \n",
    "    if stusc > kevsc:\n",
    "        print('Stuart',stusc)\n",
    "    elif kevsc > stusc:\n",
    "        print('Kevin',kevsc)\n",
    "    else:\n",
    "        print('Draw')\n",
    "        \n",
    "s = input()\n",
    "minion_game(s)"
   ]
  },
  {
   "cell_type": "markdown",
   "metadata": {},
   "source": [
    "# Merge the Tools!"
   ]
  },
  {
   "cell_type": "code",
   "execution_count": 26,
   "metadata": {},
   "outputs": [
    {
     "name": "stdout",
     "output_type": "stream",
     "text": [
      "bananananana\n",
      "3\n",
      "ban\n",
      "an\n",
      "na\n",
      "an\n"
     ]
    }
   ],
   "source": [
    "import textwrap\n",
    "\n",
    "def merge_the_tools(s, k):\n",
    "    s=s.split()\n",
    "    s=''.join(s)\n",
    "    n=len(s)\n",
    "    if ((n >= 1) and (n <= 10000)):\n",
    "        if ((k >= 1) and (k <= n)):\n",
    "            if n%k == 0:\n",
    "                st=textwrap.wrap(s,width=k)\n",
    "                for i in st:\n",
    "                    a =[]\n",
    "                    for j in i:\n",
    "                        if j not in a:\n",
    "                            a.append(j)\n",
    "                    print(''.join(a))\n",
    "                    \n",
    "            else:\n",
    "                print('enter correct data')\n",
    "                \n",
    "string, k = input(), int(input())\n",
    "merge_the_tools(string, k)"
   ]
  }
 ],
 "metadata": {
  "kernelspec": {
   "display_name": "Python 3",
   "language": "python",
   "name": "python3"
  },
  "language_info": {
   "codemirror_mode": {
    "name": "ipython",
    "version": 3
   },
   "file_extension": ".py",
   "mimetype": "text/x-python",
   "name": "python",
   "nbconvert_exporter": "python",
   "pygments_lexer": "ipython3",
   "version": "3.8.3"
  }
 },
 "nbformat": 4,
 "nbformat_minor": 4
}
