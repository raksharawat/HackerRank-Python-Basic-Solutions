{
 "cells": [
  {
   "cell_type": "markdown",
   "metadata": {},
   "source": [
    "# HackerRank Python (Basic) Subdomain: Sets Solutions"
   ]
  },
  {
   "cell_type": "markdown",
   "metadata": {},
   "source": [
    "# Introduction to Sets"
   ]
  },
  {
   "cell_type": "code",
   "execution_count": 1,
   "metadata": {},
   "outputs": [
    {
     "name": "stdout",
     "output_type": "stream",
     "text": [
      "123\n",
      "1\n",
      "1.0\n"
     ]
    }
   ],
   "source": [
    "def average(arr):\n",
    "    # your code goes here\n",
    "    ar=set(arr)\n",
    "    avg=sum(ar)/len(ar)\n",
    "    return avg\n",
    "\n",
    "n = int(input())\n",
    "arr = list(map(int, input().split()))\n",
    "result = average(arr)\n",
    "print(result)"
   ]
  },
  {
   "cell_type": "markdown",
   "metadata": {},
   "source": [
    "# No Idea!"
   ]
  },
  {
   "cell_type": "code",
   "execution_count": 2,
   "metadata": {},
   "outputs": [
    {
     "name": "stdout",
     "output_type": "stream",
     "text": [
      "3 2\n",
      "1 5 \n",
      "3 1 5\n",
      "7\n",
      "2\n"
     ]
    }
   ],
   "source": [
    "n, m = input().split()\n",
    "\n",
    "sc_ar = input().split()\n",
    "\n",
    "A = set(input().split())\n",
    "B = set(input().split())\n",
    "print(sum([(i in A) - (i in B) for i in sc_ar]))"
   ]
  },
  {
   "cell_type": "markdown",
   "metadata": {},
   "source": [
    "# Symmetric Difference"
   ]
  },
  {
   "cell_type": "code",
   "execution_count": 4,
   "metadata": {},
   "outputs": [
    {
     "name": "stdout",
     "output_type": "stream",
     "text": [
      "4\n",
      "2 6 9 10\n",
      "4\n",
      "1 4 78 0\n",
      "0\n",
      "1\n",
      "2\n",
      "4\n",
      "6\n",
      "9\n",
      "10\n",
      "78\n"
     ]
    }
   ],
   "source": [
    "n = int(input())\n",
    "nset = set(map(int, input().split()))\n",
    "\n",
    "m = int(input())\n",
    "mset = set(map(int, input().split()))\n",
    "\n",
    "s = nset ^ mset\n",
    "y=sorted(s)\n",
    "for i in y:\n",
    "    print(i)"
   ]
  },
  {
   "cell_type": "markdown",
   "metadata": {},
   "source": [
    "# Set .add()"
   ]
  },
  {
   "cell_type": "code",
   "execution_count": 1,
   "metadata": {},
   "outputs": [
    {
     "name": "stdout",
     "output_type": "stream",
     "text": [
      "7\n",
      "india\n",
      "iran\n",
      "iraq\n",
      "india\n",
      "UK\n",
      "iran\n",
      "USA\n",
      "5\n"
     ]
    }
   ],
   "source": [
    "n=int(input())\n",
    "dis=set()\n",
    "for i in range(n):\n",
    "    dis.add(input())\n",
    "print(len(dis))"
   ]
  },
  {
   "cell_type": "markdown",
   "metadata": {},
   "source": [
    "# Set .discard(), .remove() & .pop()"
   ]
  },
  {
   "cell_type": "code",
   "execution_count": 3,
   "metadata": {},
   "outputs": [
    {
     "name": "stdout",
     "output_type": "stream",
     "text": [
      "9\n",
      "1 2 3 5 6\n",
      "2\n",
      "pop\n",
      "remove 2\n",
      "14\n"
     ]
    }
   ],
   "source": [
    "n=int(input())\n",
    "\n",
    "nset=set(map(int,input().split()))\n",
    "num=int(input())\n",
    "\n",
    "for i in range(num):\n",
    "    com=input().split()\n",
    "    if len(com) == 1:\n",
    "        nset.pop()\n",
    "    elif len(com) == 2:\n",
    "        nval = int(com[1])\n",
    "        if com[0] == 'remove':\n",
    "            nset.remove(nval)\n",
    "        elif com[0] == 'discard':\n",
    "            nset.discard(nval)\n",
    "\n",
    "print(sum(nset))"
   ]
  },
  {
   "cell_type": "markdown",
   "metadata": {},
   "source": [
    "# Set .union() Operation"
   ]
  },
  {
   "cell_type": "code",
   "execution_count": 5,
   "metadata": {},
   "outputs": [
    {
     "name": "stdout",
     "output_type": "stream",
     "text": [
      "6\n",
      "1 3 4 9 53 2\n",
      "5\n",
      "1 67 53 4 2 \n",
      "7\n"
     ]
    }
   ],
   "source": [
    "ne = int(input())\n",
    "net = set(map(int, input().split()))\n",
    "nf = int(input())\n",
    "nft = set(map(int, input().split()))\n",
    "sft = net.union(nft)\n",
    "print(len(sft))"
   ]
  },
  {
   "cell_type": "markdown",
   "metadata": {},
   "source": [
    "# Set .intersection() Operation"
   ]
  },
  {
   "cell_type": "code",
   "execution_count": 6,
   "metadata": {},
   "outputs": [
    {
     "name": "stdout",
     "output_type": "stream",
     "text": [
      "6\n",
      "1 3 4 9 53 2\n",
      "5\n",
      "1 67 53 4 2\n",
      "4\n"
     ]
    }
   ],
   "source": [
    "ne = int(input())\n",
    "net = set(map(int, input().split()))\n",
    "nf = int(input())\n",
    "nft = set(map(int, input().split()))\n",
    "sft = net.intersection(nft)\n",
    "print(len(sft))"
   ]
  },
  {
   "cell_type": "markdown",
   "metadata": {},
   "source": [
    "# Set .difference() Operation"
   ]
  },
  {
   "cell_type": "code",
   "execution_count": 7,
   "metadata": {},
   "outputs": [
    {
     "name": "stdout",
     "output_type": "stream",
     "text": [
      "9\n",
      "1 2 3 4 5 6 7 8 9\n",
      "9\n",
      "10 1 2 3 11 21 55 6 8\n",
      "4\n"
     ]
    }
   ],
   "source": [
    "ne = int(input())\n",
    "net = set(map(int, input().split()))\n",
    "nf = int(input())\n",
    "nft = set(map(int, input().split()))\n",
    "\n",
    "sftd = net.difference(nft)\n",
    "print(len(sftd))"
   ]
  },
  {
   "cell_type": "markdown",
   "metadata": {},
   "source": [
    "# Set .symmetric_difference() Operation"
   ]
  },
  {
   "cell_type": "code",
   "execution_count": 2,
   "metadata": {},
   "outputs": [
    {
     "name": "stdout",
     "output_type": "stream",
     "text": [
      "9\n",
      "1 2 3 4 5 6 7 8 9\n",
      "9\n",
      "10 1 2 3 11 21 55 6 8\n",
      "8\n"
     ]
    }
   ],
   "source": [
    "ne = int(input())\n",
    "net = set(map(int, input().split()))\n",
    "nf = int(input())\n",
    "nft = set(map(int, input().split()))\n",
    "\n",
    "sftsd = net.symmetric_difference(nft)\n",
    "print(len(sftsd))"
   ]
  },
  {
   "cell_type": "markdown",
   "metadata": {},
   "source": [
    "# Set Mutations"
   ]
  },
  {
   "cell_type": "code",
   "execution_count": 4,
   "metadata": {},
   "outputs": [
    {
     "name": "stdout",
     "output_type": "stream",
     "text": [
      "16\n",
      "1 2 3 4 5 6 7 8 9 10 11 12 13 14 24 52\n",
      "4\n",
      "intersection_update 10\n",
      "2 3 5 6 8 9 1 4 7 11\n",
      "update 2\n",
      "55 66\n",
      "symmetric_difference_update 5\n",
      "22 7 35 62 58\n",
      "difference_update 7\n",
      "11 22 35 55 58 62 66\n",
      "38\n"
     ]
    }
   ],
   "source": [
    "na=int(input())\n",
    "aset=set(map(int, input().split()))\n",
    "\n",
    "nn=int(input())\n",
    "for i in range(nn):\n",
    "    n=input().split()\n",
    "    m=set(map(int, input().split()))\n",
    "    if n[0] == 'update':\n",
    "        aset |= m\n",
    "    elif n[0] == 'intersection_update':\n",
    "        aset &= m\n",
    "    elif n[0] == 'difference_update':\n",
    "        aset -= m\n",
    "    elif n[0] == 'symmetric_difference_update':\n",
    "        aset ^= m\n",
    "    else:\n",
    "        pass\n",
    "    \n",
    "print(sum(aset))"
   ]
  },
  {
   "cell_type": "markdown",
   "metadata": {},
   "source": [
    "# The Captain's Room"
   ]
  },
  {
   "cell_type": "code",
   "execution_count": 5,
   "metadata": {},
   "outputs": [
    {
     "name": "stdout",
     "output_type": "stream",
     "text": [
      "2\n",
      "1 2 3 6 5 4 4 2 5 3 6 1 6 5 3 2 4 1 2 5 1 4 3 6 8 4 3 1 5 6 2\n",
      "8\n"
     ]
    }
   ],
   "source": [
    "d=input()\n",
    "a=input().split() \n",
    "\n",
    "s1=set()  \n",
    "s2=set() \n",
    "for i in a:\n",
    "    if i in s1:\n",
    "        s2.add(i)\n",
    "    else:\n",
    "        s1.add(i)\n",
    "        \n",
    "s3=s1.difference(s2)\n",
    "print(list(s3)[0])"
   ]
  },
  {
   "cell_type": "markdown",
   "metadata": {},
   "source": [
    "# Check Subset"
   ]
  },
  {
   "cell_type": "code",
   "execution_count": 6,
   "metadata": {},
   "outputs": [
    {
     "name": "stdout",
     "output_type": "stream",
     "text": [
      "3\n",
      "5\n",
      "1 2 3 5 6\n",
      "9\n",
      "9 8 5 6 3 2 1 4 7\n",
      "1\n",
      "2\n",
      "5\n",
      "3 6 5 4 1\n",
      "7\n",
      "1 2 3 5 6 8 9\n",
      "3\n",
      "9 8 2\n",
      "True\n",
      "False\n",
      "False\n"
     ]
    }
   ],
   "source": [
    "nt=int(input())\n",
    "\n",
    "h=list()\n",
    "for i in range(nt):\n",
    "    an=int(input())\n",
    "    az=set(map(int,input().split()))\n",
    "    bn=int(input())\n",
    "    bz=set(map(int,input().split()))\n",
    "    if az & bz == az:\n",
    "        h.append('True')\n",
    "    else:\n",
    "        h.append('False')\n",
    "        \n",
    "for g in h:\n",
    "    print(g)"
   ]
  },
  {
   "cell_type": "markdown",
   "metadata": {},
   "source": [
    "# Check Strict Superset"
   ]
  },
  {
   "cell_type": "code",
   "execution_count": 7,
   "metadata": {},
   "outputs": [
    {
     "name": "stdout",
     "output_type": "stream",
     "text": [
      "1 2 3 4 5 6 7 8 9 10 11 12 23 45 84 78\n",
      "2\n",
      "1 2 3 4 5\n",
      "100 11 12\n",
      "False\n"
     ]
    }
   ],
   "source": [
    "st=set(map(int, input().split()))\n",
    "ns=int(input())\n",
    "ls=set()\n",
    "for i in range(ns):\n",
    "    ss=set(map(int, input().split()))\n",
    "    if st & ss == ss and st-ss != set():     #empty\n",
    "        ls.add('True')\n",
    "    else:\n",
    "        ls.add('False')\n",
    "        \n",
    "if 'False' in ls:\n",
    "    print('False')\n",
    "else:\n",
    "    print('True')"
   ]
  }
 ],
 "metadata": {
  "kernelspec": {
   "display_name": "Python 3",
   "language": "python",
   "name": "python3"
  }
 },
 "nbformat": 4,
 "nbformat_minor": 4
}
