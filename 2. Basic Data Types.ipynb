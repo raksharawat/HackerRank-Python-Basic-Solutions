{
 "cells": [
  {
   "cell_type": "markdown",
   "metadata": {},
   "source": [
    "# HackerRank Python (Basic) Subdomain: Basic Data Types Solutions"
   ]
  },
  {
   "cell_type": "markdown",
   "metadata": {},
   "source": [
    "# List Comprehensions"
   ]
  },
  {
   "cell_type": "code",
   "execution_count": 1,
   "metadata": {},
   "outputs": [
    {
     "name": "stdout",
     "output_type": "stream",
     "text": [
      "4\n",
      "2\n",
      "8\n",
      "0\n",
      "[[0, 0, 1], [0, 0, 2], [0, 0, 3], [0, 0, 4], [0, 0, 5], [0, 0, 6], [0, 0, 7], [0, 0, 8], [0, 1, 0], [0, 1, 1], [0, 1, 2], [0, 1, 3], [0, 1, 4], [0, 1, 5], [0, 1, 6], [0, 1, 7], [0, 1, 8], [0, 2, 0], [0, 2, 1], [0, 2, 2], [0, 2, 3], [0, 2, 4], [0, 2, 5], [0, 2, 6], [0, 2, 7], [0, 2, 8], [1, 0, 0], [1, 0, 1], [1, 0, 2], [1, 0, 3], [1, 0, 4], [1, 0, 5], [1, 0, 6], [1, 0, 7], [1, 0, 8], [1, 1, 0], [1, 1, 1], [1, 1, 2], [1, 1, 3], [1, 1, 4], [1, 1, 5], [1, 1, 6], [1, 1, 7], [1, 1, 8], [1, 2, 0], [1, 2, 1], [1, 2, 2], [1, 2, 3], [1, 2, 4], [1, 2, 5], [1, 2, 6], [1, 2, 7], [1, 2, 8], [2, 0, 0], [2, 0, 1], [2, 0, 2], [2, 0, 3], [2, 0, 4], [2, 0, 5], [2, 0, 6], [2, 0, 7], [2, 0, 8], [2, 1, 0], [2, 1, 1], [2, 1, 2], [2, 1, 3], [2, 1, 4], [2, 1, 5], [2, 1, 6], [2, 1, 7], [2, 1, 8], [2, 2, 0], [2, 2, 1], [2, 2, 2], [2, 2, 3], [2, 2, 4], [2, 2, 5], [2, 2, 6], [2, 2, 7], [2, 2, 8], [3, 0, 0], [3, 0, 1], [3, 0, 2], [3, 0, 3], [3, 0, 4], [3, 0, 5], [3, 0, 6], [3, 0, 7], [3, 0, 8], [3, 1, 0], [3, 1, 1], [3, 1, 2], [3, 1, 3], [3, 1, 4], [3, 1, 5], [3, 1, 6], [3, 1, 7], [3, 1, 8], [3, 2, 0], [3, 2, 1], [3, 2, 2], [3, 2, 3], [3, 2, 4], [3, 2, 5], [3, 2, 6], [3, 2, 7], [3, 2, 8], [4, 0, 0], [4, 0, 1], [4, 0, 2], [4, 0, 3], [4, 0, 4], [4, 0, 5], [4, 0, 6], [4, 0, 7], [4, 0, 8], [4, 1, 0], [4, 1, 1], [4, 1, 2], [4, 1, 3], [4, 1, 4], [4, 1, 5], [4, 1, 6], [4, 1, 7], [4, 1, 8], [4, 2, 0], [4, 2, 1], [4, 2, 2], [4, 2, 3], [4, 2, 4], [4, 2, 5], [4, 2, 6], [4, 2, 7], [4, 2, 8]]\n"
     ]
    }
   ],
   "source": [
    "x,y,z,n=(int(input()) for _ in range(4))\n",
    "print([[i,j,k] for i in range(0,x+1) for j in range(0,y+1) for k in range(0,z+1) if i+j+k!=n])"
   ]
  },
  {
   "cell_type": "markdown",
   "metadata": {},
   "source": [
    "# Find the Runner-Up Score!"
   ]
  },
  {
   "cell_type": "code",
   "execution_count": 5,
   "metadata": {},
   "outputs": [
    {
     "name": "stdout",
     "output_type": "stream",
     "text": [
      "5\n",
      "2 3 4 7 7\n",
      "4\n"
     ]
    }
   ],
   "source": [
    "n=int(input())\n",
    "list_runner=[int(i) for i in input().split()]\n",
    "newlist=[]\n",
    "if len(list_runner) == n:\n",
    "    #need to obain unique items\n",
    "    a=set(list_runner)\n",
    "    list_runner=list(a)\n",
    "    list_runner.sort(reverse=True)\n",
    "    print(list_runner[1])"
   ]
  },
  {
   "cell_type": "markdown",
   "metadata": {},
   "source": [
    "# Nested Lists"
   ]
  },
  {
   "cell_type": "code",
   "execution_count": 6,
   "metadata": {},
   "outputs": [
    {
     "name": "stdout",
     "output_type": "stream",
     "text": [
      "5\n",
      "harry\n",
      "37.21\n",
      "berry\n",
      "37.21\n",
      "tina\n",
      "37.2\n",
      "akriti\n",
      "41\n",
      "harsh\n",
      "39\n",
      "berry\n",
      "harry\n"
     ]
    }
   ],
   "source": [
    "#step 1: taking number of items\n",
    "n=int(input())\n",
    "\n",
    "#step 2: entering the value of those items\n",
    "stu_list=[[input(),float(input())] for _ in range(n)]\n",
    "\n",
    "# step 3: sorting the list\n",
    "stu_list=sorted(stu_list, key=lambda x:x[1])\n",
    "\n",
    "# step 4: removing all minimum score elements from list\n",
    "firstmin=stu_list[0][1]\n",
    "len1=len(stu_list)\n",
    "for i in range(len1):\n",
    "    for i in stu_list:\n",
    "        if i[1] == firstmin:\n",
    "            stu_list.remove(i)\n",
    "        else:\n",
    "            pass\n",
    "\n",
    "# step 5: making a new list for the new minimum score(second lowest scores)\n",
    "nextmin=stu_list[0][1]\n",
    "len2=len(stu_list)\n",
    "newlist=[]\n",
    "\n",
    "# step 6: adding all second lowest values to the new list\n",
    "for i in stu_list:\n",
    "    if i[1]==nextmin:\n",
    "        newlist.append(i)\n",
    "    else:\n",
    "        pass\n",
    "\n",
    "# step 7: sorting new list\n",
    "newlist.sort()\n",
    "\n",
    "# step 8: printing all the elements of newlist\n",
    "for i in newlist:\n",
    "    print(i[0])"
   ]
  },
  {
   "cell_type": "markdown",
   "metadata": {},
   "source": [
    "# Finding the percentage"
   ]
  },
  {
   "cell_type": "code",
   "execution_count": 7,
   "metadata": {},
   "outputs": [
    {
     "name": "stdout",
     "output_type": "stream",
     "text": [
      "3\n",
      "r 4 5\n",
      "c 3 4\n",
      "a 2 6\n",
      "{'r': [4.0, 5.0], 'c': [3.0, 4.0], 'a': [2.0, 6.0]}\n",
      "r\n",
      "4.50\n"
     ]
    }
   ],
   "source": [
    "n=int(input())\n",
    "stu_marks={}\n",
    "\n",
    "for _ in range(n):\n",
    "    a = input().split()\n",
    "    key =  a[0]\n",
    "    slist = a[1:]\n",
    "    slist= list(map(float, slist))\n",
    "    stu_marks[key]=slist\n",
    "    \n",
    "def avg(n):\n",
    "    av=sum(n)/len(n)\n",
    "    print('{0:.2f}'.format(av))\n",
    "\n",
    "print(stu_marks)\n",
    "query = input()\n",
    "for i in stu_marks:\n",
    "    if query == i:\n",
    "        avg(stu_marks[i])"
   ]
  },
  {
   "cell_type": "markdown",
   "metadata": {},
   "source": [
    "# Lists"
   ]
  },
  {
   "cell_type": "code",
   "execution_count": 12,
   "metadata": {},
   "outputs": [
    {
     "name": "stdout",
     "output_type": "stream",
     "text": [
      "1\n",
      "insert 5 6\n"
     ]
    }
   ],
   "source": [
    "alist=[]\n",
    "n=int(input())\n",
    "\n",
    "for j in range(n):\n",
    "    s = input()\n",
    "    num=s.count(' ')\n",
    "    \n",
    "    if num == 0:\n",
    "        cmd=s\n",
    "        if cmd == 'print': \n",
    "            print(alist)\n",
    "        elif cmd == 'sort':\n",
    "            alist.sort()\n",
    "        elif cmd == 'pop': \n",
    "            alist.pop()\n",
    "        elif cmd == 'reverse': \n",
    "            alist.reverse()\n",
    "            \n",
    "    elif num == 1:\n",
    "        s=s.split()\n",
    "        cmd=s[0]\n",
    "        e=int(s[1])\n",
    "        if cmd == 'append': \n",
    "            alist.append(e)\n",
    "        elif cmd == 'remove': \n",
    "            alist.remove(e)\n",
    "        \n",
    "    elif num == 2:\n",
    "        s=s.split()\n",
    "        cmd=s[0]\n",
    "        i=int(s[1])\n",
    "        e=int(s[2])\n",
    "        if cmd =='insert':\n",
    "            alist.insert(i,e)\n",
    "    else:\n",
    "        print('Enter correct command')"
   ]
  },
  {
   "cell_type": "markdown",
   "metadata": {},
   "source": [
    "# Tuples"
   ]
  },
  {
   "cell_type": "code",
   "execution_count": 2,
   "metadata": {},
   "outputs": [
    {
     "name": "stdout",
     "output_type": "stream",
     "text": [
      "5\n",
      "2 5 12 9 5\n",
      "5280821906031103334\n"
     ]
    }
   ],
   "source": [
    "n = int(input())\n",
    "t=[int(i) for i in input().split()]\n",
    "if len(t) == n:\n",
    "    print(hash(tuple(t)))"
   ]
  }
 ],
 "metadata": {
  "kernelspec": {
   "display_name": "Python 3",
   "language": "python",
   "name": "python3"
  },
  "language_info": {
   "codemirror_mode": {
    "name": "ipython",
    "version": 3
   },
   "file_extension": ".py",
   "mimetype": "text/x-python",
   "name": "python",
   "nbconvert_exporter": "python",
   "pygments_lexer": "ipython3",
   "version": "3.8.3"
  }
 },
 "nbformat": 4,
 "nbformat_minor": 4
}
